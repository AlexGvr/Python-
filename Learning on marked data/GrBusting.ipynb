{
 "cells": [
  {
   "cell_type": "code",
   "execution_count": 1,
   "metadata": {},
   "outputs": [],
   "source": [
    "import pandas as pd\n",
    "import numpy as np\n",
    "import matplotlib\n",
    "from matplotlib import pyplot as plt\n",
    "matplotlib.style.use('ggplot')\n",
    "%matplotlib inline"
   ]
  },
  {
   "cell_type": "code",
   "execution_count": 2,
   "metadata": {},
   "outputs": [],
   "source": [
    "from sklearn.datasets import load_boston\n",
    "boston = load_boston()"
   ]
  },
  {
   "cell_type": "code",
   "execution_count": 3,
   "metadata": {},
   "outputs": [],
   "source": [
    "X = boston['data']\n",
    "Y = boston['target']"
   ]
  },
  {
   "cell_type": "code",
   "execution_count": 4,
   "metadata": {},
   "outputs": [],
   "source": [
    "from sklearn import model_selection\n",
    "X_train, X_test, Y_train, Y_test = model_selection.train_test_split(X,Y,test_size=0.25,shuffle = False)"
   ]
  },
  {
   "cell_type": "code",
   "execution_count": 5,
   "metadata": {},
   "outputs": [],
   "source": [
    "from sklearn.tree import DecisionTreeRegressor"
   ]
  },
  {
   "cell_type": "code",
   "execution_count": 6,
   "metadata": {},
   "outputs": [],
   "source": [
    "def derivation(Y_true,Y_predict):\n",
    "    return -(Y_predict-Y_true)"
   ]
  },
  {
   "cell_type": "code",
   "execution_count": 7,
   "metadata": {},
   "outputs": [],
   "source": [
    "def gbm_predict(X):\n",
    "    return [sum([coeff * algo.predict([x])[0] for algo, coeff\n",
    "                 in zip(base_algorithms_list, coefficients_list)]) for x in X]"
   ]
  },
  {
   "cell_type": "code",
   "execution_count": 8,
   "metadata": {},
   "outputs": [],
   "source": [
    "base_algorithms_list = []\n",
    "coefficients_list = [0.9]"
   ]
  },
  {
   "cell_type": "code",
   "execution_count": 9,
   "metadata": {},
   "outputs": [],
   "source": [
    "b = DecisionTreeRegressor(max_depth=5, random_state=42)\n",
    "b.fit(X_train,Y_train)\n",
    "base_algorithms_list.append(b)\n",
    "\n",
    "for i in range(49):\n",
    "    b = DecisionTreeRegressor(max_depth=5, random_state=42)\n",
    "    Y_predict = gbm_predict(X_train)\n",
    "    b.fit(X_train, derivation(Y_train,Y_predict))\n",
    "    base_algorithms_list.append(b)\n",
    "    coefficients_list.append(0.9)"
   ]
  },
  {
   "cell_type": "code",
   "execution_count": 10,
   "metadata": {},
   "outputs": [],
   "source": [
    "from sklearn.metrics import mean_squared_error"
   ]
  },
  {
   "cell_type": "code",
   "execution_count": 11,
   "metadata": {},
   "outputs": [
    {
     "name": "stdout",
     "output_type": "stream",
     "text": [
      "5.476650974168948\n"
     ]
    }
   ],
   "source": [
    "print(mean_squared_error(Y_test,gbm_predict(X_test))**0.5)"
   ]
  },
  {
   "cell_type": "code",
   "execution_count": 40,
   "metadata": {},
   "outputs": [
    {
     "data": {
      "text/plain": [
       "array([6.320e-03, 1.800e+01, 2.310e+00, 0.000e+00, 5.380e-01, 6.575e+00,\n",
       "       6.520e+01, 4.090e+00, 1.000e+00, 2.960e+02, 1.530e+01, 3.969e+02,\n",
       "       4.980e+00])"
      ]
     },
     "execution_count": 40,
     "metadata": {},
     "output_type": "execute_result"
    }
   ],
   "source": [
    "X_train[0]"
   ]
  },
  {
   "cell_type": "code",
   "execution_count": null,
   "metadata": {},
   "outputs": [],
   "source": []
  },
  {
   "cell_type": "code",
   "execution_count": 37,
   "metadata": {},
   "outputs": [
    {
     "data": {
      "text/plain": [
       "[array([26.78]),\n",
       " array([-0.102]),\n",
       " array([0.37364938]),\n",
       " array([0.38504866]),\n",
       " array([0.09983333]),\n",
       " array([-0.69281972]),\n",
       " array([0.5370345]),\n",
       " array([-0.13254781]),\n",
       " array([0.03362462]),\n",
       " array([-0.21320814]),\n",
       " array([-0.4541274]),\n",
       " array([0.02390766]),\n",
       " array([0.01039084]),\n",
       " array([0.01057786]),\n",
       " array([-0.01322805]),\n",
       " array([0.0125799]),\n",
       " array([-0.06285218]),\n",
       " array([-0.06664047]),\n",
       " array([0.12369932]),\n",
       " array([0.10322737]),\n",
       " array([0.00942027]),\n",
       " array([0.00141319]),\n",
       " array([-0.04350827]),\n",
       " array([-0.06819802]),\n",
       " array([-0.00512764]),\n",
       " array([0.00249511]),\n",
       " array([0.05912679]),\n",
       " array([-0.04059399]),\n",
       " array([-0.00051049]),\n",
       " array([0.00569042]),\n",
       " array([-0.0016744]),\n",
       " array([0.00517783]),\n",
       " array([-0.00052004]),\n",
       " array([-0.01000182]),\n",
       " array([-0.00811404]),\n",
       " array([-0.00197257]),\n",
       " array([-0.00130994]),\n",
       " array([0.00230768]),\n",
       " array([0.0011638]),\n",
       " array([-0.0006613]),\n",
       " array([0.0025896]),\n",
       " array([0.00060413]),\n",
       " array([-0.00505083]),\n",
       " array([0.00266193]),\n",
       " array([-0.00011584]),\n",
       " array([-0.00154282]),\n",
       " array([0.00063221]),\n",
       " array([0.00552243]),\n",
       " array([0.00111877]),\n",
       " array([-0.0002234])]"
      ]
     },
     "execution_count": 37,
     "metadata": {},
     "output_type": "execute_result"
    }
   ],
   "source": [
    "([algo.predict([X[0]]) for algo, coeff in\n",
    "           zip(base_algorithms_list, coefficients_list)]) "
   ]
  },
  {
   "cell_type": "code",
   "execution_count": null,
   "metadata": {},
   "outputs": [],
   "source": []
  }
 ],
 "metadata": {
  "kernelspec": {
   "display_name": "Python 3",
   "language": "python",
   "name": "python3"
  },
  "language_info": {
   "codemirror_mode": {
    "name": "ipython",
    "version": 3
   },
   "file_extension": ".py",
   "mimetype": "text/x-python",
   "name": "python",
   "nbconvert_exporter": "python",
   "pygments_lexer": "ipython3",
   "version": "3.6.4"
  }
 },
 "nbformat": 4,
 "nbformat_minor": 2
}
